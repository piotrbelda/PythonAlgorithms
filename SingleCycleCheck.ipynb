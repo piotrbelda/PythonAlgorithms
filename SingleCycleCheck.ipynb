{
 "cells": [
  {
   "cell_type": "code",
   "execution_count": 31,
   "metadata": {},
   "outputs": [],
   "source": [
    "# You are given an array of integers where each integer represents a jump of its value in the array. For instance,\n",
    "# the integer 2 represents a jump of two indices forward in the array; the integer -3 represents a jump of three\n",
    "# indices backward in the array.\n",
    "\n",
    "# If a jump spills past the array's bounds, it wraps over to the other side. For instance, a jump of -1 at index\n",
    "# 0 brings us to the last index of the array. Similarly, a jump of 1 at the last index in the array brings us\n",
    "# to index 0.\n",
    "\n",
    "# Write a function that returns a boolean representing whether the jumps in the array form a single cycle.\n",
    "# A single cycle occurs if, starting at any index in the array and following the jumps, every element in the\n",
    "# array is visited exactly once before landing back on the starting index."
   ]
  },
  {
   "cell_type": "code",
   "execution_count": 33,
   "metadata": {},
   "outputs": [],
   "source": [
    "def getIndex(array,currIdx):\n",
    "    jump=(currIdx+array[currIdx]%len(array))%len(array)\n",
    "    return jump"
   ]
  },
  {
   "cell_type": "code",
   "execution_count": 34,
   "metadata": {},
   "outputs": [],
   "source": [
    "def checkCycle(array):\n",
    "    currIdx=0\n",
    "    numVisited=0\n",
    "    while numVisited<len(array):\n",
    "        if numVisited>0 and currIdx==0:\n",
    "            return False\n",
    "        numVisited+=1\n",
    "        currIdx=getIndex(array,currIdx)\n",
    "    return currIdx==0"
   ]
  },
  {
   "cell_type": "code",
   "execution_count": 36,
   "metadata": {},
   "outputs": [
    {
     "data": {
      "text/plain": [
       "True"
      ]
     },
     "execution_count": 36,
     "metadata": {},
     "output_type": "execute_result"
    }
   ],
   "source": [
    "a1=[2, 3, 1, -4, -4, 2]\n",
    "checkCycle(a1)"
   ]
  },
  {
   "cell_type": "code",
   "execution_count": 37,
   "metadata": {},
   "outputs": [
    {
     "data": {
      "text/plain": [
       "False"
      ]
     },
     "execution_count": 37,
     "metadata": {},
     "output_type": "execute_result"
    }
   ],
   "source": [
    "a2=[3, 5, 5, -5, -2, -5, -12, -2, -1, 2, -6, 1, 1, 2, -5, 2]\n",
    "checkCycle(a2)"
   ]
  },
  {
   "cell_type": "code",
   "execution_count": 38,
   "metadata": {},
   "outputs": [
    {
     "data": {
      "text/plain": [
       "False"
      ]
     },
     "execution_count": 38,
     "metadata": {},
     "output_type": "execute_result"
    }
   ],
   "source": [
    "a3=[1, -1, 1, -1]\n",
    "checkCycle(a3)"
   ]
  }
 ],
 "metadata": {
  "kernelspec": {
   "display_name": "Python 3",
   "language": "python",
   "name": "python3"
  },
  "language_info": {
   "codemirror_mode": {
    "name": "ipython",
    "version": 3
   },
   "file_extension": ".py",
   "mimetype": "text/x-python",
   "name": "python",
   "nbconvert_exporter": "python",
   "pygments_lexer": "ipython3",
   "version": "3.7.3"
  }
 },
 "nbformat": 4,
 "nbformat_minor": 2
}
