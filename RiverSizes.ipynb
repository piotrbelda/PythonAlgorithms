{
 "cells": [
  {
   "cell_type": "code",
   "execution_count": 1,
   "metadata": {},
   "outputs": [],
   "source": [
    "# You're given a two-dimensional array (a matrix) of potentially unequal height and width containing only 0\n",
    "# and 1. Each 0 represents land, and each 1 represents part of a river. A river consists of any number of 1\n",
    "# that are either horizontally or vertically adjacent (but not diagonally adjacent). The number of adjacent\n",
    "# 1 forming a river determine its size.\n",
    "# Write a function that returns an array of the sizes of all rivers represented in the input matrix.\n",
    "# The sizes don't need to be in any particular order."
   ]
  },
  {
   "cell_type": "code",
   "execution_count": 2,
   "metadata": {},
   "outputs": [],
   "source": [
    "def riverSizes(matrix):\n",
    "    accessible_nodes=[(h,w) for h in range(len(matrix)) for w in range(len(matrix[0]))]\n",
    "    def check_river(x,y):\n",
    "        if (x,y) not in accessible_nodes:\n",
    "            return 0\n",
    "        accessible_nodes.remove((x,y))\n",
    "        if matrix[x][y] == 0:\n",
    "            return 0\n",
    "        else:\n",
    "            return 1 + check_river(x+1,y) + check_river(x,y+1) + check_river(x-1,y) + check_river(x,y-1)\n",
    "    matches=[]\n",
    "    for d1 in range(len(matrix)):\n",
    "        for d2 in range(len(matrix[0])):\n",
    "            value=check_river(d1,d2)\n",
    "            if value:\n",
    "                matches.append(value)\n",
    "    return matches"
   ]
  },
  {
   "cell_type": "code",
   "execution_count": 3,
   "metadata": {},
   "outputs": [
    {
     "data": {
      "text/plain": [
       "[2, 1, 5, 2, 2]"
      ]
     },
     "execution_count": 3,
     "metadata": {},
     "output_type": "execute_result"
    }
   ],
   "source": [
    "mat1=[\n",
    "    [1, 0, 0, 1, 0],\n",
    "    [1, 0, 1, 0, 0],\n",
    "    [0, 0, 1, 0, 1],\n",
    "    [1, 0, 1, 0, 1],\n",
    "    [1, 0, 1, 1, 0]\n",
    "  ]\n",
    "\n",
    "riverSizes(mat1)"
   ]
  },
  {
   "cell_type": "code",
   "execution_count": 4,
   "metadata": {},
   "outputs": [
    {
     "data": {
      "text/plain": [
       "[3, 2, 1]"
      ]
     },
     "execution_count": 4,
     "metadata": {},
     "output_type": "execute_result"
    }
   ],
   "source": [
    "mat2=[[1, 1, 1, 0, 1, 1, 0, 0, 0, 1, 0]]\n",
    "\n",
    "riverSizes(mat2)"
   ]
  },
  {
   "cell_type": "code",
   "execution_count": 5,
   "metadata": {},
   "outputs": [
    {
     "data": {
      "text/plain": [
       "[2, 1, 3, 1]"
      ]
     },
     "execution_count": 5,
     "metadata": {},
     "output_type": "execute_result"
    }
   ],
   "source": [
    "mat3=[[1, 0, 0, 1], [1, 0, 1, 0], [0, 0, 1, 0], [1, 0, 1, 0]]\n",
    "\n",
    "riverSizes(mat3)"
   ]
  },
  {
   "cell_type": "code",
   "execution_count": 6,
   "metadata": {},
   "outputs": [
    {
     "data": {
      "text/plain": [
       "[2, 1, 21, 5, 2, 1]"
      ]
     },
     "execution_count": 6,
     "metadata": {},
     "output_type": "execute_result"
    }
   ],
   "source": [
    "mat4=[\n",
    "    [1, 0, 0, 1, 0, 1, 0, 0, 1, 1, 1, 0],\n",
    "    [1, 0, 1, 0, 0, 1, 1, 1, 1, 0, 1, 0],\n",
    "    [0, 0, 1, 0, 1, 1, 0, 1, 0, 1, 1, 1],\n",
    "    [1, 0, 1, 0, 1, 1, 0, 0, 0, 1, 0, 0],\n",
    "    [1, 0, 1, 1, 0, 0, 0, 1, 1, 1, 0, 1]\n",
    "  ]\n",
    "\n",
    "riverSizes(mat4)"
   ]
  },
  {
   "cell_type": "code",
   "execution_count": 7,
   "metadata": {},
   "outputs": [
    {
     "data": {
      "text/plain": [
       "[49]"
      ]
     },
     "execution_count": 7,
     "metadata": {},
     "output_type": "execute_result"
    }
   ],
   "source": [
    "mat5=[\n",
    "    [1, 1, 1, 1, 1, 1, 1],\n",
    "    [1, 1, 1, 1, 1, 1, 1],\n",
    "    [1, 1, 1, 1, 1, 1, 1],\n",
    "    [1, 1, 1, 1, 1, 1, 1],\n",
    "    [1, 1, 1, 1, 1, 1, 1],\n",
    "    [1, 1, 1, 1, 1, 1, 1],\n",
    "    [1, 1, 1, 1, 1, 1, 1]\n",
    "  ]\n",
    "\n",
    "riverSizes(mat5)"
   ]
  },
  {
   "cell_type": "code",
   "execution_count": 8,
   "metadata": {},
   "outputs": [
    {
     "data": {
      "text/plain": [
       "[]"
      ]
     },
     "execution_count": 8,
     "metadata": {},
     "output_type": "execute_result"
    }
   ],
   "source": [
    "mat6=[\n",
    "    [0, 0, 0, 0, 0, 0, 0],\n",
    "    [0, 0, 0, 0, 0, 0, 0],\n",
    "    [0, 0, 0, 0, 0, 0, 0],\n",
    "    [0, 0, 0, 0, 0, 0, 0],\n",
    "    [0, 0, 0, 0, 0, 0, 0],\n",
    "    [0, 0, 0, 0, 0, 0, 0],\n",
    "    [0, 0, 0, 0, 0, 0, 0]\n",
    "  ]\n",
    "\n",
    "riverSizes(mat6)"
   ]
  }
 ],
 "metadata": {
  "kernelspec": {
   "display_name": "Python 3",
   "language": "python",
   "name": "python3"
  },
  "language_info": {
   "codemirror_mode": {
    "name": "ipython",
    "version": 3
   },
   "file_extension": ".py",
   "mimetype": "text/x-python",
   "name": "python",
   "nbconvert_exporter": "python",
   "pygments_lexer": "ipython3",
   "version": "3.7.3"
  }
 },
 "nbformat": 4,
 "nbformat_minor": 2
}
