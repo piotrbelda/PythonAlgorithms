{
 "cells": [
  {
   "cell_type": "raw",
   "metadata": {},
   "source": [
    "Założenia: pozycja o indeksie 0 w tablicy to pozycja rzeczywsita 1\n",
    "Ciąg może mieć charakter arytmetyczny lub geometryczny i zostanie to tutaj uwzględnione w 2 przypadkach"
   ]
  },
  {
   "cell_type": "markdown",
   "metadata": {},
   "source": [
    "#ZADANIE 1"
   ]
  },
  {
   "cell_type": "code",
   "execution_count": 363,
   "metadata": {},
   "outputs": [],
   "source": [
    "from typing import List, Optional\n",
    "import numpy as np"
   ]
  },
  {
   "cell_type": "code",
   "execution_count": 364,
   "metadata": {},
   "outputs": [],
   "source": [
    "#WARIANT 1 - przejscie po każdym elemencie z pętli, dlugosc wykonywania: O(n), n - długość listy"
   ]
  },
  {
   "cell_type": "code",
   "execution_count": 365,
   "metadata": {},
   "outputs": [],
   "source": [
    "def sprawdz_pozycje_1(lista: List[int], liczba: int) -> str:\n",
    "    for i,element in enumerate(lista):\n",
    "        if element == liczba:\n",
    "            return f\"Pozycja o numerze: {i+1}\""
   ]
  },
  {
   "cell_type": "code",
   "execution_count": 366,
   "metadata": {},
   "outputs": [],
   "source": [
    "lista=[16384,4096,1024,256,64,16,4,1]\n",
    "liczba=1024"
   ]
  },
  {
   "cell_type": "code",
   "execution_count": 367,
   "metadata": {},
   "outputs": [
    {
     "data": {
      "text/plain": [
       "'Pozycja o numerze: 3'"
      ]
     },
     "execution_count": 367,
     "metadata": {},
     "output_type": "execute_result"
    }
   ],
   "source": [
    "sprawdz_pozycje_1(lista,liczba)"
   ]
  },
  {
   "cell_type": "code",
   "execution_count": 376,
   "metadata": {},
   "outputs": [],
   "source": [
    "#WARIANT 2 - przejście przez listę jak przez ciąg arytmetyczny/geometryczny, długość wykonania: O(1), czas wykonania niezależny od długości listy"
   ]
  },
  {
   "cell_type": "code",
   "execution_count": 369,
   "metadata": {},
   "outputs": [],
   "source": [
    "def sprawdz_pozycje_2(lista: List[int], liczba: int, typ: Optional[str] = \"q\") -> str:\n",
    "    \"\"\"\n",
    "    typ: 'a'- ciag arytmetyczny, 'q' - ciąg geometryczny\n",
    "    \"\"\"\n",
    "    if len(lista) == 1:\n",
    "        i=1\n",
    "    else:\n",
    "        if typ == \"a\":\n",
    "            r = lista[0] - lista[1]\n",
    "            i = (lista[0] - liczba) / r + 1\n",
    "        if typ == \"q\":\n",
    "            r = lista[0] / lista[1]\n",
    "            i = np.log(lista[0]/liczba)/np.log(r) + 1\n",
    "    return f\"Pozycja o numerze: {int(i)}\""
   ]
  },
  {
   "cell_type": "code",
   "execution_count": 370,
   "metadata": {},
   "outputs": [
    {
     "data": {
      "text/plain": [
       "'Pozycja o numerze: 3'"
      ]
     },
     "execution_count": 370,
     "metadata": {},
     "output_type": "execute_result"
    }
   ],
   "source": [
    "sprawdz_pozycje_2(lista,liczba,\"q\")"
   ]
  },
  {
   "cell_type": "code",
   "execution_count": 378,
   "metadata": {},
   "outputs": [],
   "source": [
    "# WARIANT 3 - przejście z eleminacją połówkową, długość wykonania: O(n/2), n - długość listy"
   ]
  },
  {
   "cell_type": "code",
   "execution_count": 371,
   "metadata": {},
   "outputs": [],
   "source": [
    "def sprawdz_pozycje_3(lista: List[int], liczba: int, akumulator: int = 0) -> str:\n",
    "    #print(f\"Rozpatrywana lista: {lista}\")\n",
    "    #print(f\"Akumulator: {akumulator}\")\n",
    "    połowa=len(lista)//2\n",
    "    lewa_połowa_listy=lista[:połowa]\n",
    "    prawa_połowa_listy=lista[połowa:]\n",
    "    #print(f\"Połówki: lewa: {lewa_połowa_listy} , prawa: {prawa_połowa_listy}\")\n",
    "    #print(f\"Połowa: {połowa}\")\n",
    "    #print(f\"sprawdzam czy {lewa_połowa_listy[-1]} jest równe z {liczba}\")\n",
    "    if lewa_połowa_listy[-1] == liczba:\n",
    "        return f\"Pozycja o numerze: {akumulator + 1}\"\n",
    "    else:\n",
    "        if prawa_połowa_listy[-1] == liczba:\n",
    "            return f\"Pozycja o numerze: {akumulator + połowa + len(prawa_połowa_listy)}\"\n",
    "    if lewa_połowa_listy[-1] > liczba:\n",
    "        #print(\"Dolna połowa, akumuluję\")\n",
    "        return sprawdz_pozycje_3(prawa_połowa_listy, liczba, akumulator+połowa)\n",
    "    else:\n",
    "        #print(\"Górna połowa, nie akumuluję\")\n",
    "        return sprawdz_pozycje_3(lewa_połowa_listy, liczba, akumulator)"
   ]
  },
  {
   "cell_type": "code",
   "execution_count": 372,
   "metadata": {},
   "outputs": [
    {
     "data": {
      "text/plain": [
       "'Pozycja o numerze: 3'"
      ]
     },
     "execution_count": 372,
     "metadata": {},
     "output_type": "execute_result"
    }
   ],
   "source": [
    "sprawdz_pozycje_3(lista,liczba)"
   ]
  },
  {
   "cell_type": "code",
   "execution_count": 373,
   "metadata": {},
   "outputs": [],
   "source": [
    "def test(lista,liczba):\n",
    "    wyniki=[]\n",
    "    for numer_funkcji in range(1,4):\n",
    "        zwrot = eval(f\"sprawdz_pozycje_{numer_funkcji}({lista},{liczba})\")\n",
    "        wyniki.append(f\"Funkcja testowa nr {numer_funkcji} zwraca: {zwrot}\")\n",
    "    return wyniki"
   ]
  },
  {
   "cell_type": "code",
   "execution_count": 374,
   "metadata": {},
   "outputs": [
    {
     "data": {
      "text/plain": [
       "['Funkcja testowa nr 1 zwraca: Pozycja o numerze: 3',\n",
       " 'Funkcja testowa nr 2 zwraca: Pozycja o numerze: 3',\n",
       " 'Funkcja testowa nr 3 zwraca: Pozycja o numerze: 3']"
      ]
     },
     "execution_count": 374,
     "metadata": {},
     "output_type": "execute_result"
    }
   ],
   "source": [
    "test(lista,liczba)"
   ]
  }
 ],
 "metadata": {
  "kernelspec": {
   "display_name": "Python 3",
   "language": "python",
   "name": "python3"
  },
  "language_info": {
   "codemirror_mode": {
    "name": "ipython",
    "version": 3
   },
   "file_extension": ".py",
   "mimetype": "text/x-python",
   "name": "python",
   "nbconvert_exporter": "python",
   "pygments_lexer": "ipython3",
   "version": "3.8.3"
  }
 },
 "nbformat": 4,
 "nbformat_minor": 4
}
