{
 "cells": [
  {
   "cell_type": "code",
   "execution_count": 78,
   "metadata": {},
   "outputs": [],
   "source": [
    "# Write a function that takes in a non-empty array of integers and returns the maximum sum that can be\n",
    "# obtained by summing up all of the integers in a non-empty subarray of the input array. A subarray must\n",
    "# only contain adjacent numbers"
   ]
  },
  {
   "cell_type": "code",
   "execution_count": 79,
   "metadata": {},
   "outputs": [],
   "source": [
    "array=[3,5,-9,1,3,-2,3,4,7,2,-9,6,3,1,-5,4]"
   ]
  },
  {
   "cell_type": "code",
   "execution_count": 80,
   "metadata": {},
   "outputs": [],
   "source": [
    "def kadanesAlgorithm(array):\n",
    "    max_sum=array[0]\n",
    "    s=array[0]\n",
    "    for i in range(len(array)-1):\n",
    "        s=max(array[i+1],s+array[i+1])\n",
    "        max_sum=max(max_sum,s)\n",
    "    return max_sum"
   ]
  },
  {
   "cell_type": "code",
   "execution_count": 81,
   "metadata": {},
   "outputs": [
    {
     "data": {
      "text/plain": [
       "19"
      ]
     },
     "execution_count": 81,
     "metadata": {},
     "output_type": "execute_result"
    }
   ],
   "source": [
    "kadanesAlgorithm(array)"
   ]
  }
 ],
 "metadata": {
  "kernelspec": {
   "display_name": "Python 3",
   "language": "python",
   "name": "python3"
  },
  "language_info": {
   "codemirror_mode": {
    "name": "ipython",
    "version": 3
   },
   "file_extension": ".py",
   "mimetype": "text/x-python",
   "name": "python",
   "nbconvert_exporter": "python",
   "pygments_lexer": "ipython3",
   "version": "3.7.3"
  }
 },
 "nbformat": 4,
 "nbformat_minor": 2
}
