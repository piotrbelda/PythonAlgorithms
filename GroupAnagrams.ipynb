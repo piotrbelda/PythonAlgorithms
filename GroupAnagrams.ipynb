{
 "cells": [
  {
   "cell_type": "code",
   "execution_count": 1,
   "metadata": {},
   "outputs": [],
   "source": [
    "def groupAnagrams(words):\n",
    "    voc={}\n",
    "    for el in words:\n",
    "        sorted_expr=''.join(sorted(list(el)))\n",
    "        if sorted_expr not in voc:\n",
    "            voc[sorted_expr]=[el]\n",
    "        else:\n",
    "            voc[sorted_expr].append(el)\n",
    "    return list(voc.values())"
   ]
  },
  {
   "cell_type": "code",
   "execution_count": 2,
   "metadata": {},
   "outputs": [],
   "source": [
    "an1=[\"yo\", \"act\", \"flop\", \"tac\", \"cat\", \"oy\", \"olfp\"]\n",
    "an2=[]\n",
    "an3=['test']\n",
    "an4=[\"abc\", \"dabd\", \"bca\", \"cab\", \"ddba\"]\n",
    "an5=[\"abc\", \"cba\", \"bca\"]\n",
    "an6=[\"zxc\", \"asd\", \"weq\", \"sda\", \"qwe\", \"xcz\"]\n",
    "an7=[\"cinema\", \"a\", \"flop\", \"iceman\", \"meacyne\", \"lofp\", \"olfp\"]\n",
    "an8=[\"abc\", \"abe\", \"abf\", \"abg\"]"
   ]
  },
  {
   "cell_type": "code",
   "execution_count": 5,
   "metadata": {},
   "outputs": [
    {
     "name": "stdout",
     "output_type": "stream",
     "text": [
      "[['yo', 'oy'], ['act', 'tac', 'cat'], ['flop', 'olfp']]\n",
      "[]\n",
      "[['test']]\n",
      "[['abc', 'bca', 'cab'], ['dabd', 'ddba']]\n",
      "[['abc', 'cba', 'bca']]\n",
      "[['zxc', 'xcz'], ['asd', 'sda'], ['weq', 'qwe']]\n",
      "[['cinema', 'iceman'], ['a'], ['flop', 'lofp', 'olfp'], ['meacyne']]\n",
      "[['abc'], ['abe'], ['abf'], ['abg']]\n"
     ]
    }
   ],
   "source": [
    "for x in range(1,9):\n",
    "    result=eval(f'groupAnagrams(an{x})')\n",
    "    print(result)"
   ]
  }
 ],
 "metadata": {
  "kernelspec": {
   "display_name": "Python 3",
   "language": "python",
   "name": "python3"
  },
  "language_info": {
   "codemirror_mode": {
    "name": "ipython",
    "version": 3
   },
   "file_extension": ".py",
   "mimetype": "text/x-python",
   "name": "python",
   "nbconvert_exporter": "python",
   "pygments_lexer": "ipython3",
   "version": "3.7.3"
  }
 },
 "nbformat": 4,
 "nbformat_minor": 2
}
