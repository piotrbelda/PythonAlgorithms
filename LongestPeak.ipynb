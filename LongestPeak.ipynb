{
 "cells": [
  {
   "cell_type": "code",
   "execution_count": 1,
   "metadata": {},
   "outputs": [],
   "source": [
    "#Write a function that takes in array of integers and returns the lenght of the longest peak in the array.\n",
    "#A peek is defined as adjacent integers in the array that are strictly increasing until they reach a tip\n",
    "#(the highest value in the peak), at which point they become strictly decreasing. At least three integers are\n",
    "#required to form a peak."
   ]
  },
  {
   "cell_type": "code",
   "execution_count": 2,
   "metadata": {},
   "outputs": [],
   "source": [
    "def longestPeak(array):\n",
    "    i,longest,j=0,[0],0\n",
    "    while i<len(array)-1:\n",
    "        if array[i]<array[i+1]:\n",
    "            j+=1\n",
    "            i+=1\n",
    "            continue\n",
    "        if array[i]>array[i+1] and j>0:\n",
    "            j+=1\n",
    "            for x in range(i+1,len(array)-1):\n",
    "                if array[x]<=array[x+1]:\n",
    "                    i=x-1\n",
    "                    break\n",
    "                else:\n",
    "                    j+=1\n",
    "            i+=1\n",
    "            longest.append(j+1)\n",
    "            j=0\n",
    "            continue\n",
    "        j=0\n",
    "        i+=1\n",
    "    return max(longest)"
   ]
  },
  {
   "cell_type": "code",
   "execution_count": 3,
   "metadata": {},
   "outputs": [],
   "source": [
    "array=[1,2,3,3,4,0,10,6,5,-1,-3,2,3]"
   ]
  },
  {
   "cell_type": "code",
   "execution_count": 4,
   "metadata": {},
   "outputs": [
    {
     "data": {
      "text/plain": [
       "6"
      ]
     },
     "execution_count": 4,
     "metadata": {},
     "output_type": "execute_result"
    }
   ],
   "source": [
    "longestPeak(array)"
   ]
  }
 ],
 "metadata": {
  "kernelspec": {
   "display_name": "Python 3",
   "language": "python",
   "name": "python3"
  },
  "language_info": {
   "codemirror_mode": {
    "name": "ipython",
    "version": 3
   },
   "file_extension": ".py",
   "mimetype": "text/x-python",
   "name": "python",
   "nbconvert_exporter": "python",
   "pygments_lexer": "ipython3",
   "version": "3.7.3"
  }
 },
 "nbformat": 4,
 "nbformat_minor": 2
}
